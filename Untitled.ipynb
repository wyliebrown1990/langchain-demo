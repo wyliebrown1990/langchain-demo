{
 "cells": [
  {
   "cell_type": "code",
   "execution_count": null,
   "id": "d22ba33c-3fe6-4fca-b675-6cf8bdcbaf79",
   "metadata": {},
   "outputs": [],
   "source": [
    "#pip install faiss-cpu\n",
    "#pip install beautifulSoup4\n",
    "import os\n",
    "from dotenv import load_dotenv\n",
    "#from langchain_anthropic import ChatAnthropic\n",
    "from langchain_openai import ChatOpenAI\n",
    "#example of prompt template\n",
    "from langchain_core.prompts import ChatPromptTemplate\n",
    "#converts the chat model output into a string for convenience\n",
    "from langchain_core.output_parsers import StrOutputParser\n",
    "#we need to index it into a vectorstore. This requires a few components, namely an embedding model and a vectorstore\n",
    "from langchain_openai import OpenAIEmbeddings\n",
    "#import FAISS as vectorstore:\n",
    "from langchain_community.vectorstores import FAISS\n",
    "#import text splitter to break up text within the scraped URL:\n",
    "from langchain_text_splitters import RecursiveCharacterTextSplitter\n",
    "#import and use WebBaseLoader for retrival example\n",
    "from langchain_community.document_loaders import WebBaseLoader\n",
    "#create retrieval chain: \n",
    "from langchain.chains.combine_documents import create_stuff_documents_chain\n",
    "#use the retriever to dynamically select the most relevant documents and pass those in for a given question\n",
    "from langchain.chains import create_retrieval_chain\n",
    "\n",
    "# Load environment variables from .env file\n",
    "load_dotenv()\n",
    "\n",
    "# Load environment variables from .env file\n",
    "load_dotenv()\n",
    "\n",
    "# Access the API keys\n",
    "openai_api_key = os.getenv('OPENAI_API_KEY')\n",
    "langchain_api_key = os.getenv('LANGCHAIN_API_KEY')\n",
    "langsmith = os.getenv('LANGCHAIN_TRACING_V2')\n",
    "\n",
    "# Initialize the chat model with the API key\n",
    "llm = ChatOpenAI(\n",
    "    openai_api_key=openai_api_key,\n",
    "    model=\"gpt-3.5-turbo\",\n",
    "    temperature=0\n",
    ")\n",
    "\n",
    "loader = WebBaseLoader(\"https://docs.smith.langchain.com/user_guide\")\n",
    "\n",
    "docs = loader.load()\n",
    "\n",
    "embeddings = OpenAIEmbeddings()\n",
    "\n",
    "text_splitter = RecursiveCharacterTextSplitter()\n",
    "documents = text_splitter.split_documents(docs)\n",
    "vector = FAISS.from_documents(documents, embeddings)\n",
    "\n",
    "prompt = ChatPromptTemplate.from_template(\"\"\"Answer the following question based only on the provided context:\n",
    "\n",
    "<context>\n",
    "{context}\n",
    "</context>\n",
    "\n",
    "Question: {input}\"\"\")\n",
    "\n",
    "document_chain = create_stuff_documents_chain(llm, prompt)\n",
    "\n",
    "from langchain_core.documents import Document\n",
    "\n",
    "retriever = vector.as_retriever()\n",
    "retrieval_chain = create_retrieval_chain(retriever, document_chain)\n",
    "\n",
    "response = retrieval_chain.invoke({\"input\": \"how can langsmith help with testing?\"})\n",
    "print(response[\"answer\"])"
   ]
  },
  {
   "cell_type": "code",
   "execution_count": 2,
   "id": "70d2d728-7033-406e-894d-25dc2b5ab972",
   "metadata": {},
   "outputs": [
    {
     "ename": "NameError",
     "evalue": "name 'TextLoader' is not defined",
     "output_type": "error",
     "traceback": [
      "\u001b[0;31m---------------------------------------------------------------------------\u001b[0m",
      "\u001b[0;31mNameError\u001b[0m                                 Traceback (most recent call last)",
      "Cell \u001b[0;32mIn[2], line 1\u001b[0m\n\u001b[0;32m----> 1\u001b[0m loader \u001b[38;5;241m=\u001b[39m TextLoader(\u001b[38;5;124m\"\u001b[39m\u001b[38;5;124mobserve.txt\u001b[39m\u001b[38;5;124m\"\u001b[39m)\n",
      "\u001b[0;31mNameError\u001b[0m: name 'TextLoader' is not defined"
     ]
    }
   ],
   "source": [
    "loader = TextLoader(\"observe.txt\")"
   ]
  },
  {
   "cell_type": "code",
   "execution_count": null,
   "id": "b7e63b14-8531-4fad-a8b3-c9dbaefeadd1",
   "metadata": {},
   "outputs": [],
   "source": []
  }
 ],
 "metadata": {
  "kernelspec": {
   "display_name": "Python 3 (ipykernel)",
   "language": "python",
   "name": "python3"
  },
  "language_info": {
   "codemirror_mode": {
    "name": "ipython",
    "version": 3
   },
   "file_extension": ".py",
   "mimetype": "text/x-python",
   "name": "python",
   "nbconvert_exporter": "python",
   "pygments_lexer": "ipython3",
   "version": "3.11.7"
  }
 },
 "nbformat": 4,
 "nbformat_minor": 5
}
