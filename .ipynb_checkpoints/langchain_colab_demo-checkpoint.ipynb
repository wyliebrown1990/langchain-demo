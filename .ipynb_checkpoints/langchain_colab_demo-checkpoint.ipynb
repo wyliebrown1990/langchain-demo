{
 "cells": [
  {
   "cell_type": "code",
   "execution_count": null,
   "metadata": {},
   "outputs": [],
   "source": [
    "!pip install langchain langchain-openai langchain-community faiss-cpu tiktoken \n",
    "!pip install python-dotenv"
   ]
  },
  {
   "cell_type": "code",
   "execution_count": null,
   "metadata": {
    "colab": {
     "base_uri": "https://localhost:8080/"
    },
    "executionInfo": {
     "elapsed": 31834,
     "status": "ok",
     "timestamp": 1715956872829,
     "user": {
      "displayName": "Wylie Brown",
      "userId": "07714891194574860489"
     },
     "user_tz": 240
    },
    "id": "xDpJjneQ_r0q",
    "outputId": "d81444ec-cf6a-4b46-afb1-d10de0e1f7ff"
   },
   "outputs": [],
   "source": [
    "from langchain_openai import OpenAI\n",
    "from langchain_community.document_loaders import TextLoader\n",
    "from langchain.text_splitter import RecursiveCharacterTextSplitter\n",
    "from langchain_openai import OpenAIEmbeddings\n",
    "from langchain_community.vectorstores import FAISS\n",
    "from langchain_core.vectorstores import VectorStoreRetriever\n",
    "from langchain.chains import RetrievalQA\n",
    "import os\n",
    "\n",
    "loader = TextLoader(\"observe.txt\")\n",
    "\n",
    "documents = loader.load()\n",
    "\n",
    "text_splitter = RecursiveCharacterTextSplitter(\n",
    "    chunk_size = 500,\n",
    "    chunk_overlap = 0,\n",
    "    length_function = len,\n",
    ")\n",
    "\n",
    "docs = text_splitter.split_documents(documents)\n",
    "\n",
    "#docs[2]\n",
    "#len(docs)\n",
    "\n",
    "from dotenv import load_dotenv\n",
    "load_dotenv('.env')\n",
    "api_key = os.getenv('API_KEY')\n",
    "\n",
    "embedding = OpenAIEmbeddings(api_key=api_key)\n",
    "\n",
    "library = FAISS.from_documents(docs, embedding)\n",
    "\n",
    "Query1 = \"what makes Observe better than other observability platforms?\"\n",
    "\n",
    "Query_Answer = library.similarity_search(Query1)\n",
    "\n",
    "print(Query_Answer[1].page_content)\n",
    "\n",
    "docs_and_scores = library.similarity_search_with_score(Query1)\n",
    "\n",
    "#docs_and_scores[0]\n",
    "\n",
    "retriever = library.as_retriever()\n",
    "\n",
    "qa = RetrievalQA.from_chain_type(llm=OpenAI(api_key=api_key), chain_type=\"stuff\", retriever=retriever)\n",
    "\n",
    "retriever_query = \"what is the best Observability feature?\"\n",
    "\n",
    "results = qa.invoke(retriever_query)\n",
    "\n",
    "print(results)\n",
    "\n",
    "#save FAISS index\n",
    "library.save_local(\"faiss_index_observe\")\n",
    "\n",
    "observe_saved = FAISS.load_local(\"faiss_index_observe\", embedding, allow_dangerous_deserialization=True)\n",
    "\n",
    "qa = RetrievalQA.from_chain_type(llm=OpenAI(api_key=api_key), chain_type=\"stuff\", retriever=observe_saved.as_retriever())\n",
    "\n",
    "results = qa.invoke(retriever_query)\n",
    "\n",
    "print(results)"
   ]
  },
  {
   "cell_type": "code",
   "execution_count": null,
   "metadata": {},
   "outputs": [],
   "source": []
  }
 ],
 "metadata": {
  "colab": {
   "authorship_tag": "ABX9TyMWo3Z6FD2vfXwrUMa30F+i",
   "provenance": []
  },
  "kernelspec": {
   "display_name": "Python 3 (ipykernel)",
   "language": "python",
   "name": "python3"
  },
  "language_info": {
   "codemirror_mode": {
    "name": "ipython",
    "version": 3
   },
   "file_extension": ".py",
   "mimetype": "text/x-python",
   "name": "python",
   "nbconvert_exporter": "python",
   "pygments_lexer": "ipython3",
   "version": "3.11.7"
  }
 },
 "nbformat": 4,
 "nbformat_minor": 4
}
