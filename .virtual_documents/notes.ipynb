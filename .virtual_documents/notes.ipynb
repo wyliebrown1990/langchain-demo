import os
from langchain_anthropic import ChatAnthropic
from langchain_core.prompts import ChatPromptTemplate
from langchain_core.messages import HumanMessage
from langchain_core.output_parsers import StrOutputParser
#from langchain.globals import set_debug
from dotenv import load_dotenv
from langchain_community.document_loaders import WebBaseLoader
loader = WebBaseLoader("https://docs.smith.langchain.com/user_guide")

docs = loader.load()

#set_debug(True)

# Load environment variables from .env file
load_dotenv()

# Access the API keys
anthropic_api_key = os.getenv('ANTHROPIC_API_KEY')
openai_api_key = os.getenv('OPENAI_API_KEY')
langchain_api_key = os.getenv('LANGCHAIN_API_KEY')
LANGCHAIN_TRACING_V2=true

# Initialize the chat model with the API key
chat_model = ChatAnthropic(
    anthropic_api_key=anthropic_api_key,
    model="claude-3-sonnet-20240229",
    temperature=0
)

# Get the user's input
user_input = input("Describe yourself: ")

# Create the prompt template with the placeholder
prompt_template = ChatPromptTemplate.from_messages([
    ("system", "You are a world class life coach and inspirational leader. You should hype up the audience member who describes themself."),
    ("user", "{input}")
])

# Combine the prompt template with the chat model
chain = prompt_template | chat_model

# Invoke the chain with the user's input
response = chain.invoke({"input": user_input})

# Print the response
print(response)




