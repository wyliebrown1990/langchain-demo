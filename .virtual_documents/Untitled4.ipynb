"""
Dependencies:
pip install yt_dlp
brew install ffmpeg
pip install pytube openai-whisper
"""


import os
from dotenv import load_dotenv
import yt_dlp
import whisper

# Load environment variables from .env file
load_dotenv()

# Access the API keys
openai_api_key = os.getenv('OPENAI_API_KEY')

# Directory to save audio files
save_dir = "docs/youtube/"

# Ensure the save directory exists
os.makedirs(save_dir, exist_ok=True)

# URL of the YouTube video
url = "https://www.youtube.com/watch?v=jGwO_UgTS7I"

# Path to cookies file
cookies_file = "/Users/wyliebrown/langchain_demo/cookies.txt"

# Download the video and extract audio using yt-dlp
ydl_opts = {
    'format': 'bestaudio/best',
    'outtmpl': os.path.join(save_dir, '%(title)s.%(ext)s'),
    'postprocessors': [{
        'key': 'FFmpegExtractAudio',
        'preferredcodec': 'mp3',
        'preferredquality': '192',
    }],
    'cookiefile': cookies_file
}

with yt_dlp.YoutubeDL(ydl_opts) as ydl:
    info_dict = ydl.extract_info(url, download=True)
    audio_file_path = ydl.prepare_filename(info_dict).replace('.webm', '.mp3')

# Initialize the Whisper model
model = whisper.load_model("base")

# Transcribe the audio file
result = model.transcribe(audio_file_path)

# Save the transcription to a text file
transcription_file_path = os.path.join(save_dir, info_dict['title'] + ".txt")
with open(transcription_file_path, "w") as f:
    f.write(result["text"])

print(f"Transcription saved to {transcription_file_path}")
print(result["text"][:500])




